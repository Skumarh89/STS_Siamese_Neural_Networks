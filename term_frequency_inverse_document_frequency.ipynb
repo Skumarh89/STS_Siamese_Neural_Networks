{
 "cells": [
  {
   "cell_type": "markdown",
   "metadata": {},
   "source": [
    "# QUORA QQP"
   ]
  },
  {
   "cell_type": "markdown",
   "metadata": {},
   "source": [
    "### TF-IDF"
   ]
  },
  {
   "cell_type": "markdown",
   "metadata": {},
   "source": [
    "#### Performance Metrics\n",
    "\n",
    "\n",
    "- Log Loss \n",
    "- Binary Confusion Matrix"
   ]
  },
  {
   "cell_type": "markdown",
   "metadata": {},
   "source": [
    "\n",
    "- SGDClassifier\n",
    "- XGBoost"
   ]
  },
  {
   "cell_type": "code",
   "execution_count": 3,
   "metadata": {},
   "outputs": [],
   "source": [
    "# importing the libraries\n",
    "\n",
    "import numpy as np\n",
    "import matplotlib.pyplot as plt\n",
    "import seaborn as sns\n",
    "import pandas as pd\n",
    "import pickle\n",
    "\n",
    "from datetime import datetime\n",
    "\n",
    "from sklearn.feature_extraction.text import TfidfVectorizer\n",
    "from sklearn.model_selection import train_test_split\n",
    "from sklearn.preprocessing import Normalizer\n",
    "from sklearn.linear_model import SGDClassifier\n",
    "from sklearn.model_selection import GridSearchCV\n",
    "from sklearn.metrics import confusion_matrix, classification_report, accuracy_score, log_loss\n",
    "\n",
    "from scipy.sparse import hstack\n",
    "from xgboost import XGBClassifier"
   ]
  },
  {
   "cell_type": "code",
   "execution_count": 4,
   "metadata": {},
   "outputs": [],
   "source": [
    "# importing the preprocessed dataset\n",
    "\n",
    "df = pd.read_pickle(\"./questions_preprocessed.pkl\")"
   ]
  },
  {
   "cell_type": "code",
   "execution_count": 5,
   "metadata": {},
   "outputs": [
    {
     "data": {
      "text/html": [
       "<div>\n",
       "<style scoped>\n",
       "    .dataframe tbody tr th:only-of-type {\n",
       "        vertical-align: middle;\n",
       "    }\n",
       "\n",
       "    .dataframe tbody tr th {\n",
       "        vertical-align: top;\n",
       "    }\n",
       "\n",
       "    .dataframe thead th {\n",
       "        text-align: right;\n",
       "    }\n",
       "</style>\n",
       "<table border=\"1\" class=\"dataframe\">\n",
       "  <thead>\n",
       "    <tr style=\"text-align: right;\">\n",
       "      <th></th>\n",
       "      <th>question1</th>\n",
       "      <th>question2</th>\n",
       "      <th>is_duplicate</th>\n",
       "      <th>q1_len</th>\n",
       "      <th>q2_len</th>\n",
       "      <th>q1_word_len</th>\n",
       "      <th>q2_word_len</th>\n",
       "      <th>q1_char_len</th>\n",
       "      <th>q2_char_len</th>\n",
       "      <th>len_diff</th>\n",
       "      <th>word_len_diff</th>\n",
       "      <th>char_len_diff</th>\n",
       "      <th>common_words</th>\n",
       "      <th>common_words_ratio</th>\n",
       "      <th>fuzz_ratio</th>\n",
       "      <th>fuzz_partial_ratio</th>\n",
       "      <th>token_sort_ratio</th>\n",
       "      <th>token_set_ratio</th>\n",
       "    </tr>\n",
       "  </thead>\n",
       "  <tbody>\n",
       "    <tr>\n",
       "      <th>0</th>\n",
       "      <td>step step guide invest share market india</td>\n",
       "      <td>step step guide invest share market</td>\n",
       "      <td>0</td>\n",
       "      <td>66</td>\n",
       "      <td>57</td>\n",
       "      <td>14</td>\n",
       "      <td>12</td>\n",
       "      <td>53</td>\n",
       "      <td>46</td>\n",
       "      <td>9</td>\n",
       "      <td>2</td>\n",
       "      <td>7</td>\n",
       "      <td>10</td>\n",
       "      <td>0.384615</td>\n",
       "      <td>92</td>\n",
       "      <td>100</td>\n",
       "      <td>92</td>\n",
       "      <td>100</td>\n",
       "    </tr>\n",
       "    <tr>\n",
       "      <th>1</th>\n",
       "      <td>story kohinoor kohinoor diamond</td>\n",
       "      <td>would happen indian government stole kohinoor ...</td>\n",
       "      <td>0</td>\n",
       "      <td>51</td>\n",
       "      <td>88</td>\n",
       "      <td>8</td>\n",
       "      <td>13</td>\n",
       "      <td>44</td>\n",
       "      <td>76</td>\n",
       "      <td>37</td>\n",
       "      <td>5</td>\n",
       "      <td>32</td>\n",
       "      <td>4</td>\n",
       "      <td>0.190476</td>\n",
       "      <td>59</td>\n",
       "      <td>94</td>\n",
       "      <td>59</td>\n",
       "      <td>84</td>\n",
       "    </tr>\n",
       "    <tr>\n",
       "      <th>2</th>\n",
       "      <td>increase speed internet connection using vpn</td>\n",
       "      <td>internet speed increased hacking dns</td>\n",
       "      <td>0</td>\n",
       "      <td>73</td>\n",
       "      <td>59</td>\n",
       "      <td>14</td>\n",
       "      <td>10</td>\n",
       "      <td>60</td>\n",
       "      <td>50</td>\n",
       "      <td>14</td>\n",
       "      <td>4</td>\n",
       "      <td>10</td>\n",
       "      <td>4</td>\n",
       "      <td>0.166667</td>\n",
       "      <td>55</td>\n",
       "      <td>56</td>\n",
       "      <td>70</td>\n",
       "      <td>70</td>\n",
       "    </tr>\n",
       "    <tr>\n",
       "      <th>3</th>\n",
       "      <td>mentally lonely solve</td>\n",
       "      <td>find remainder math2324math divided 2423</td>\n",
       "      <td>0</td>\n",
       "      <td>50</td>\n",
       "      <td>65</td>\n",
       "      <td>11</td>\n",
       "      <td>9</td>\n",
       "      <td>40</td>\n",
       "      <td>57</td>\n",
       "      <td>15</td>\n",
       "      <td>2</td>\n",
       "      <td>17</td>\n",
       "      <td>0</td>\n",
       "      <td>0.000000</td>\n",
       "      <td>23</td>\n",
       "      <td>29</td>\n",
       "      <td>23</td>\n",
       "      <td>23</td>\n",
       "    </tr>\n",
       "    <tr>\n",
       "      <th>4</th>\n",
       "      <td>one dissolve water quikly sugar salt methane c...</td>\n",
       "      <td>fish would survive salt water</td>\n",
       "      <td>0</td>\n",
       "      <td>76</td>\n",
       "      <td>39</td>\n",
       "      <td>13</td>\n",
       "      <td>7</td>\n",
       "      <td>64</td>\n",
       "      <td>33</td>\n",
       "      <td>37</td>\n",
       "      <td>6</td>\n",
       "      <td>31</td>\n",
       "      <td>2</td>\n",
       "      <td>0.100000</td>\n",
       "      <td>43</td>\n",
       "      <td>52</td>\n",
       "      <td>40</td>\n",
       "      <td>51</td>\n",
       "    </tr>\n",
       "    <tr>\n",
       "      <th>5</th>\n",
       "      <td>astrology capricorn sun cap moon cap risingwha...</td>\n",
       "      <td>im triple capricorn sun moon ascendant caprico...</td>\n",
       "      <td>1</td>\n",
       "      <td>86</td>\n",
       "      <td>90</td>\n",
       "      <td>16</td>\n",
       "      <td>16</td>\n",
       "      <td>71</td>\n",
       "      <td>75</td>\n",
       "      <td>4</td>\n",
       "      <td>0</td>\n",
       "      <td>4</td>\n",
       "      <td>8</td>\n",
       "      <td>0.250000</td>\n",
       "      <td>64</td>\n",
       "      <td>65</td>\n",
       "      <td>60</td>\n",
       "      <td>69</td>\n",
       "    </tr>\n",
       "    <tr>\n",
       "      <th>6</th>\n",
       "      <td>buy tiago</td>\n",
       "      <td>keeps childern active far phone video games</td>\n",
       "      <td>0</td>\n",
       "      <td>19</td>\n",
       "      <td>62</td>\n",
       "      <td>4</td>\n",
       "      <td>11</td>\n",
       "      <td>16</td>\n",
       "      <td>52</td>\n",
       "      <td>43</td>\n",
       "      <td>7</td>\n",
       "      <td>36</td>\n",
       "      <td>0</td>\n",
       "      <td>0.000000</td>\n",
       "      <td>19</td>\n",
       "      <td>33</td>\n",
       "      <td>19</td>\n",
       "      <td>19</td>\n",
       "    </tr>\n",
       "    <tr>\n",
       "      <th>7</th>\n",
       "      <td>good geologist</td>\n",
       "      <td>great geologist</td>\n",
       "      <td>1</td>\n",
       "      <td>30</td>\n",
       "      <td>41</td>\n",
       "      <td>7</td>\n",
       "      <td>9</td>\n",
       "      <td>24</td>\n",
       "      <td>33</td>\n",
       "      <td>11</td>\n",
       "      <td>2</td>\n",
       "      <td>9</td>\n",
       "      <td>4</td>\n",
       "      <td>0.250000</td>\n",
       "      <td>76</td>\n",
       "      <td>71</td>\n",
       "      <td>76</td>\n",
       "      <td>78</td>\n",
       "    </tr>\n",
       "    <tr>\n",
       "      <th>8</th>\n",
       "      <td>use shi instead shi</td>\n",
       "      <td>use instead</td>\n",
       "      <td>0</td>\n",
       "      <td>31</td>\n",
       "      <td>37</td>\n",
       "      <td>8</td>\n",
       "      <td>8</td>\n",
       "      <td>24</td>\n",
       "      <td>30</td>\n",
       "      <td>6</td>\n",
       "      <td>0</td>\n",
       "      <td>6</td>\n",
       "      <td>6</td>\n",
       "      <td>0.375000</td>\n",
       "      <td>73</td>\n",
       "      <td>82</td>\n",
       "      <td>73</td>\n",
       "      <td>100</td>\n",
       "    </tr>\n",
       "    <tr>\n",
       "      <th>9</th>\n",
       "      <td>motorola company hack charter motorolla dcx3400</td>\n",
       "      <td>hack motorola dcx3400 free internet</td>\n",
       "      <td>0</td>\n",
       "      <td>60</td>\n",
       "      <td>49</td>\n",
       "      <td>9</td>\n",
       "      <td>9</td>\n",
       "      <td>52</td>\n",
       "      <td>41</td>\n",
       "      <td>11</td>\n",
       "      <td>0</td>\n",
       "      <td>11</td>\n",
       "      <td>3</td>\n",
       "      <td>0.166667</td>\n",
       "      <td>51</td>\n",
       "      <td>60</td>\n",
       "      <td>59</td>\n",
       "      <td>75</td>\n",
       "    </tr>\n",
       "  </tbody>\n",
       "</table>\n",
       "</div>"
      ],
      "text/plain": [
       "                                           question1  \\\n",
       "0          step step guide invest share market india   \n",
       "1                    story kohinoor kohinoor diamond   \n",
       "2       increase speed internet connection using vpn   \n",
       "3                              mentally lonely solve   \n",
       "4  one dissolve water quikly sugar salt methane c...   \n",
       "5  astrology capricorn sun cap moon cap risingwha...   \n",
       "6                                          buy tiago   \n",
       "7                                     good geologist   \n",
       "8                                use shi instead shi   \n",
       "9    motorola company hack charter motorolla dcx3400   \n",
       "\n",
       "                                           question2  is_duplicate  q1_len  \\\n",
       "0                step step guide invest share market             0      66   \n",
       "1  would happen indian government stole kohinoor ...             0      51   \n",
       "2               internet speed increased hacking dns             0      73   \n",
       "3           find remainder math2324math divided 2423             0      50   \n",
       "4                      fish would survive salt water             0      76   \n",
       "5  im triple capricorn sun moon ascendant caprico...             1      86   \n",
       "6        keeps childern active far phone video games             0      19   \n",
       "7                                    great geologist             1      30   \n",
       "8                                        use instead             0      31   \n",
       "9                hack motorola dcx3400 free internet             0      60   \n",
       "\n",
       "   q2_len  q1_word_len  q2_word_len  q1_char_len  q2_char_len  len_diff  \\\n",
       "0      57           14           12           53           46         9   \n",
       "1      88            8           13           44           76        37   \n",
       "2      59           14           10           60           50        14   \n",
       "3      65           11            9           40           57        15   \n",
       "4      39           13            7           64           33        37   \n",
       "5      90           16           16           71           75         4   \n",
       "6      62            4           11           16           52        43   \n",
       "7      41            7            9           24           33        11   \n",
       "8      37            8            8           24           30         6   \n",
       "9      49            9            9           52           41        11   \n",
       "\n",
       "   word_len_diff  char_len_diff  common_words  common_words_ratio  fuzz_ratio  \\\n",
       "0              2              7            10            0.384615          92   \n",
       "1              5             32             4            0.190476          59   \n",
       "2              4             10             4            0.166667          55   \n",
       "3              2             17             0            0.000000          23   \n",
       "4              6             31             2            0.100000          43   \n",
       "5              0              4             8            0.250000          64   \n",
       "6              7             36             0            0.000000          19   \n",
       "7              2              9             4            0.250000          76   \n",
       "8              0              6             6            0.375000          73   \n",
       "9              0             11             3            0.166667          51   \n",
       "\n",
       "   fuzz_partial_ratio  token_sort_ratio  token_set_ratio  \n",
       "0                 100                92              100  \n",
       "1                  94                59               84  \n",
       "2                  56                70               70  \n",
       "3                  29                23               23  \n",
       "4                  52                40               51  \n",
       "5                  65                60               69  \n",
       "6                  33                19               19  \n",
       "7                  71                76               78  \n",
       "8                  82                73              100  \n",
       "9                  60                59               75  "
      ]
     },
     "execution_count": 5,
     "metadata": {},
     "output_type": "execute_result"
    }
   ],
   "source": [
    "df.head(10)"
   ]
  },
  {
   "cell_type": "code",
   "execution_count": 39,
   "metadata": {},
   "outputs": [],
   "source": [
    "# creating a single list of unique questions\n",
    "\n",
    "uniq_questions = pd.concat((df['question1'], df['question2'])).unique()   "
   ]
  },
  {
   "cell_type": "markdown",
   "metadata": {},
   "source": [
    "### TF-IDF Word Level"
   ]
  },
  {
   "cell_type": "code",
   "execution_count": 81,
   "metadata": {},
   "outputs": [
    {
     "data": {
      "text/plain": [
       "TfidfVectorizer(analyzer='word', binary=False, decode_error='strict',\n",
       "                dtype=<class 'numpy.float64'>, encoding='utf-8',\n",
       "                input='content', lowercase=True, max_df=1.0, max_features=None,\n",
       "                min_df=1, ngram_range=(1, 1), norm='l2', preprocessor=None,\n",
       "                smooth_idf=True, stop_words=None, strip_accents=None,\n",
       "                sublinear_tf=False, token_pattern='\\\\w{1,}', tokenizer=None,\n",
       "                use_idf=True, vocabulary=None)"
      ]
     },
     "execution_count": 81,
     "metadata": {},
     "output_type": "execute_result"
    }
   ],
   "source": [
    "# applying tfidf vectorizer\n",
    "\n",
    "tfidf_vect = TfidfVectorizer(analyzer='word', token_pattern=r'\\w{1,}')\n",
    "tfidf_vect.fit(uniq_questions)"
   ]
  },
  {
   "cell_type": "code",
   "execution_count": 82,
   "metadata": {},
   "outputs": [],
   "source": [
    "# transform question1 and question2 using tfidf vectorizer\n",
    "\n",
    "question1_vect = tfidf_vect.transform(df['question1'])\n",
    "question2_vect = tfidf_vect.transform(df['question2'])"
   ]
  },
  {
   "cell_type": "code",
   "execution_count": 9,
   "metadata": {},
   "outputs": [
    {
     "name": "stdout",
     "output_type": "stream",
     "text": [
      "Index(['question1', 'question2', 'is_duplicate', 'q1_len', 'q2_len',\n",
      "       'q1_word_len', 'q2_word_len', 'q1_char_len', 'q2_char_len', 'len_diff',\n",
      "       'word_len_diff', 'char_len_diff', 'common_words', 'common_words_ratio',\n",
      "       'fuzz_ratio', 'fuzz_partial_ratio', 'token_sort_ratio',\n",
      "       'token_set_ratio'],\n",
      "      dtype='object')\n"
     ]
    }
   ],
   "source": [
    "# list all column names\n",
    "\n",
    "print(df.columns)"
   ]
  },
  {
   "cell_type": "markdown",
   "metadata": {},
   "source": [
    "The following features are available for building the model:\n",
    "\n",
    "- question1\n",
    "- question2\n",
    "- q1_len\n",
    "- q2_len\n",
    "- q1_word_len\n",
    "- q1_word_len\n",
    "- q1_char_len\n",
    "- q1_char_len\n",
    "- len_diff\n",
    "- word_len_diff\n",
    "- char_len_diff\n",
    "- common_words\n",
    "- common_words_ratio\n",
    "- fuzz_ratio\n",
    "- fuzz_partial_ratio\n",
    "- token_sort_ratio\n",
    "- token_set_ratio"
   ]
  },
  {
   "cell_type": "code",
   "execution_count": 83,
   "metadata": {},
   "outputs": [],
   "source": [
    "# all features\n",
    "X = hstack((question1_vect, question2_vect, df[['q1_len','q2_len','q1_word_len','q1_word_len','q1_char_len','q1_char_len','len_diff','word_len_diff','char_len_diff','common_words','common_words_ratio', 'fuzz_ratio', 'fuzz_partial_ratio', 'token_sort_ratio', 'token_set_ratio']]))\n",
    "\n",
    "# output feature: is_duplicate\n",
    "y = df['is_duplicate']"
   ]
  },
  {
   "cell_type": "code",
   "execution_count": 84,
   "metadata": {},
   "outputs": [],
   "source": [
    "# splitting the training and testing dataset\n",
    "\n",
    "X_train, X_test, y_train, y_test = train_test_split(X, y, test_size=0.2, random_state=42)"
   ]
  },
  {
   "cell_type": "code",
   "execution_count": 74,
   "metadata": {},
   "outputs": [],
   "source": [
    "# plotting the confusion matrix\n",
    "\n",
    "def plot_confusion_matrix(test_y, predict_y):\n",
    "    C = confusion_matrix(test_y, predict_y)\n",
    "    plt.figure(figsize=(20,4))\n",
    "    \n",
    "    labels = [0,1]\n",
    "    cmap=sns.light_palette(\"blue\")\n",
    "    plt.subplot(1, 3, 1)\n",
    "    sns.heatmap(C, annot=True, cmap=cmap, fmt=\".0f\", xticklabels=labels, yticklabels=labels)\n",
    "    plt.xlabel('Predicted Class')\n",
    "    plt.ylabel('Original Class')\n",
    "    plt.title(\"Confusion matrix\")"
   ]
  },
  {
   "cell_type": "markdown",
   "metadata": {},
   "source": [
    "### SGDClassifier"
   ]
  },
  {
   "cell_type": "code",
   "execution_count": 13,
   "metadata": {},
   "outputs": [
    {
     "name": "stdout",
     "output_type": "stream",
     "text": [
      "For alpha=1e-05, log loss is 2.434760298831177\n",
      "For alpha=0.0001, log loss is 0.9475600036825564\n",
      "For alpha=0.001, log loss is 0.5074072864166543\n",
      "For alpha=0.01, log loss is 0.6358597770442553\n",
      "For alpha=0.1, log loss is 0.5622769130756479\n",
      "For alpha=1, log loss is 0.5706200226921889\n",
      "For alpha=10, log loss is 0.5875559233174091\n",
      "Total running time: 0:02:13.633767\n"
     ]
    }
   ],
   "source": [
    "start = datetime.utcnow()\n",
    "alpha = [10 ** x for x in range(-5, 2)]\n",
    "\n",
    "log_loss_array = []\n",
    "for i in alpha:\n",
    "    clf = SGDClassifier(alpha=i, penalty='l2', loss='log', n_jobs=-1, random_state=42)\n",
    "    clf.fit(X_train, y_train)\n",
    "    y_pred_prob = clf.predict_proba(X_test)\n",
    "    log_loss_array.append(log_loss(y_test, y_pred_prob, labels=clf.classes_))\n",
    "    print(\"For alpha={}, log loss is {}\".format(i, log_loss_array[-1]))\n",
    "\n",
    "print(\"Total running time: {}\".format(datetime.utcnow() - start))"
   ]
  },
  {
   "cell_type": "code",
   "execution_count": 17,
   "metadata": {},
   "outputs": [
    {
     "data": {
      "image/png": "[encoded data removed]",
      "text/plain": [
       "<Figure size 432x288 with 1 Axes>"
      ]
     },
     "metadata": {
      "needs_background": "light"
     },
     "output_type": "display_data"
    }
   ],
   "source": [
    "data_plot = pd.DataFrame(\n",
    "    {\"alpha\": alpha[1:], \"log_loss\": log_loss_array[1:]})\n",
    "sns.lineplot(x=\"alpha\", y=\"log_loss\", data=data_plot)\n",
    "plt.title('Log Loss for each alpha')\n",
    "plt.show()"
   ]
  },
  {
   "cell_type": "markdown",
   "metadata": {},
   "source": [
    "We are selecting alpha value as 0.001 as it provided the minimum log loss of 0.471."
   ]
  },
  {
   "cell_type": "code",
   "execution_count": 76,
   "metadata": {},
   "outputs": [],
   "source": [
    "clf = SGDClassifier(alpha=0.001, penalty='l2', loss='log', n_jobs=-1, random_state=42)\n",
    "clf.fit(X_train, y_train)\n",
    "y_pred_prob = clf.predict_proba(X_test)\n",
    "y_pred = clf.predict(X_test)"
   ]
  },
  {
   "cell_type": "code",
   "execution_count": 77,
   "metadata": {},
   "outputs": [
    {
     "name": "stdout",
     "output_type": "stream",
     "text": [
      "Log Loss (Training): 0.5100124399601744\n",
      "\n",
      "Log Loss (Testing): 0.5074072864166543\n",
      "\n",
      "Accuracy Score: 0.7170025967602325\n",
      "\n",
      "Classification Report:\n",
      "\n",
      "              precision    recall  f1-score   support\n",
      "\n",
      "           0       0.80      0.74      0.77     51240\n",
      "           1       0.60      0.67      0.64     29630\n",
      "\n",
      "    accuracy                           0.72     80870\n",
      "   macro avg       0.70      0.71      0.70     80870\n",
      "weighted avg       0.73      0.72      0.72     80870\n",
      "\n",
      "\n",
      "Confustion Matrix: \n",
      "\n"
     ]
    },
    {
     "data": {
      "image/png": "[encoded data removed]",
      "text/plain": [
       "<Figure size 1440x288 with 2 Axes>"
      ]
     },
     "metadata": {
      "needs_background": "light"
     },
     "output_type": "display_data"
    }
   ],
   "source": [
    "print(\"Log Loss (Training): {}\\n\".format(log_loss(y_train, clf.predict_proba(X_train))))\n",
    "print(\"Log Loss (Testing): {}\\n\".format(log_loss(y_test, y_pred_prob, labels=clf.classes_)))\n",
    "print(\"Accuracy Score: {}\\n\".format(accuracy_score(y_test, y_pred)))\n",
    "print('Classification Report:\\n')\n",
    "print(classification_report(y_test, y_pred))\n",
    "print('\\nConfustion Matrix: \\n')\n",
    "plot_confusion_matrix(y_test, y_pred)"
   ]
  },
  {
   "cell_type": "markdown",
   "metadata": {},
   "source": [
    "### XGBClassifier \n"
   ]
  },
  {
   "cell_type": "code",
   "execution_count": 86,
   "metadata": {},
   "outputs": [],
   "source": [
    "xgb_clf = XGBClassifier(objective='binary:logistic', eval_metric='logloss', n_jobs=-1, random_state=42)\n",
    "xgb_clf.fit(X_train, y_train)\n",
    "y_pred_prob = xgb_clf.predict_proba(X_test)\n",
    "y_pred = xgb_clf.predict(X_test)"
   ]
  },
  {
   "cell_type": "code",
   "execution_count": 87,
   "metadata": {},
   "outputs": [
    {
     "name": "stdout",
     "output_type": "stream",
     "text": [
      "Log Loss (Training): 0.39101376031273194\n",
      "\n",
      "Log Loss (Testing): 0.4003839339062982\n",
      "\n",
      "Accuracy Score: 0.799814517126252\n",
      "\n",
      "Classification Report:\n",
      "\n",
      "              precision    recall  f1-score   support\n",
      "\n",
      "           0       0.84      0.84      0.84     51240\n",
      "           1       0.73      0.72      0.73     29630\n",
      "\n",
      "    accuracy                           0.80     80870\n",
      "   macro avg       0.78      0.78      0.78     80870\n",
      "weighted avg       0.80      0.80      0.80     80870\n",
      "\n",
      "\n",
      "Confustion Matrix: \n",
      "\n"
     ]
    },
    {
     "data": {
      "image/png": "[encoded data removed]",
      "text/plain": [
       "<Figure size 1440x288 with 2 Axes>"
      ]
     },
     "metadata": {
      "needs_background": "light"
     },
     "output_type": "display_data"
    }
   ],
   "source": [
    "print(\"Log Loss (Training): {}\\n\".format(log_loss(y_train, xgb_clf.predict_proba(X_train))))\n",
    "print(\"Log Loss (Testing): {}\\n\".format(log_loss(y_test, y_pred_prob, labels=clf.classes_)))\n",
    "print(\"Accuracy Score: {}\\n\".format(accuracy_score(y_test, y_pred)))\n",
    "print('Classification Report:\\n')\n",
    "print(classification_report(y_test, y_pred))\n",
    "print('\\nConfustion Matrix: \\n')\n",
    "plot_confusion_matrix(y_test, y_pred)"
   ]
  },
  {
   "cell_type": "markdown",
   "metadata": {},
   "source": [
    "### TF-IDF N-gram Level"
   ]
  },
  {
   "cell_type": "code",
   "execution_count": 88,
   "metadata": {},
   "outputs": [
    {
     "data": {
      "text/plain": [
       "TfidfVectorizer(analyzer='word', binary=False, decode_error='strict',\n",
       "                dtype=<class 'numpy.float64'>, encoding='utf-8',\n",
       "                input='content', lowercase=True, max_df=1.0, max_features=None,\n",
       "                min_df=1, ngram_range=(2, 3), norm='l2', preprocessor=None,\n",
       "                smooth_idf=True, stop_words=None, strip_accents=None,\n",
       "                sublinear_tf=False, token_pattern='\\\\w{1,}', tokenizer=None,\n",
       "                use_idf=True, vocabulary=None)"
      ]
     },
     "execution_count": 88,
     "metadata": {},
     "output_type": "execute_result"
    }
   ],
   "source": [
    "# applying tfidf vectorizer\n",
    "\n",
    "tfidf_vect = TfidfVectorizer(analyzer='word', token_pattern=r'\\w{1,}', ngram_range=(2,3))\n",
    "tfidf_vect.fit(uniq_questions)"
   ]
  },
  {
   "cell_type": "code",
   "execution_count": 89,
   "metadata": {},
   "outputs": [],
   "source": [
    "# transform question1 and question2 using tfidf vectorizer\n",
    "\n",
    "question1_vect = tfidf_vect.transform(df['question1'])\n",
    "question2_vect = tfidf_vect.transform(df['question2'])"
   ]
  },
  {
   "cell_type": "code",
   "execution_count": 90,
   "metadata": {},
   "outputs": [],
   "source": [
    "# all features\n",
    "X = hstack((question1_vect, question2_vect, df[['q1_len','q2_len','q1_word_len','q1_word_len','q1_char_len','q1_char_len','len_diff','word_len_diff','char_len_diff','common_words','common_words_ratio', 'fuzz_ratio', 'fuzz_partial_ratio', 'token_sort_ratio', 'token_set_ratio']]))\n",
    "\n",
    "# output feature: is_duplicate\n",
    "y = df['is_duplicate']"
   ]
  },
  {
   "cell_type": "code",
   "execution_count": 91,
   "metadata": {},
   "outputs": [],
   "source": [
    "# splitting the training and testing dataset\n",
    "\n",
    "X_train, X_test, y_train, y_test = train_test_split(X, y, test_size=0.2, random_state=42)"
   ]
  },
  {
   "cell_type": "code",
   "execution_count": 30,
   "metadata": {},
   "outputs": [
    {
     "name": "stdout",
     "output_type": "stream",
     "text": [
      "For alpha=1e-05, log loss is 1.1339147747494753\n",
      "For alpha=0.0001, log loss is 0.5315276574159216\n",
      "For alpha=0.001, log loss is 0.5401991125627892\n",
      "For alpha=0.01, log loss is 0.6479296345469859\n",
      "For alpha=0.1, log loss is 0.5631060933418307\n",
      "For alpha=1, log loss is 0.5707011366128483\n",
      "For alpha=10, log loss is 0.5875638803535617\n",
      "Total running time: 0:03:46.250021\n"
     ]
    }
   ],
   "source": [
    "# SGDClassifier\n",
    "start = datetime.utcnow()\n",
    "alpha = [10 ** x for x in range(-5, 2)]\n",
    "\n",
    "log_loss_array = []\n",
    "for i in alpha:\n",
    "    clf = SGDClassifier(alpha=i, penalty='l2', loss='log', n_jobs=-1, random_state=42)\n",
    "    clf.fit(X_train, y_train)\n",
    "    y_pred_prob = clf.predict_proba(X_test)\n",
    "    log_loss_array.append(log_loss(y_test, y_pred_prob, labels=clf.classes_))\n",
    "    print(\"For alpha={}, log loss is {}\".format(i, log_loss_array[-1]))\n",
    "\n",
    "print(\"Total running time: {}\".format(datetime.utcnow() - start))"
   ]
  },
  {
   "cell_type": "code",
   "execution_count": 31,
   "metadata": {},
   "outputs": [
    {
     "data": {
      "image/png": "[encoded data removed]",
      "text/plain": [
       "<Figure size 432x288 with 1 Axes>"
      ]
     },
     "metadata": {
      "needs_background": "light"
     },
     "output_type": "display_data"
    }
   ],
   "source": [
    "data_plot = pd.DataFrame(\n",
    "    {\"alpha\": alpha[1:], \"log_loss\": log_loss_array[1:]})\n",
    "sns.lineplot(x=\"alpha\", y=\"log_loss\", data=data_plot)\n",
    "plt.title('Log Loss for each alpha')\n",
    "plt.show()"
   ]
  },
  {
   "cell_type": "code",
   "execution_count": 92,
   "metadata": {},
   "outputs": [],
   "source": [
    "clf = SGDClassifier(alpha=0.0001, penalty='l2', loss='log', n_jobs=-1, random_state=42)\n",
    "clf.fit(X_train, y_train)\n",
    "y_pred_prob = clf.predict_proba(X_test)\n",
    "y_pred = clf.predict(X_test)"
   ]
  },
  {
   "cell_type": "code",
   "execution_count": 93,
   "metadata": {},
   "outputs": [
    {
     "name": "stdout",
     "output_type": "stream",
     "text": [
      "Log Loss (Training): 0.5268833562460734\n",
      "\n",
      "Log Loss (Testing): 0.5315276574159216\n",
      "\n",
      "Accuracy Score: 0.7204154816371955\n",
      "\n",
      "Classification Report:\n",
      "\n",
      "              precision    recall  f1-score   support\n",
      "\n",
      "           0       0.81      0.73      0.77     51240\n",
      "           1       0.60      0.71      0.65     29630\n",
      "\n",
      "    accuracy                           0.72     80870\n",
      "   macro avg       0.71      0.72      0.71     80870\n",
      "weighted avg       0.73      0.72      0.72     80870\n",
      "\n",
      "\n",
      "Confustion Matrix: \n",
      "\n"
     ]
    },
    {
     "data": {
      "image/png": "[encoded data removed]",
      "text/plain": [
       "<Figure size 1440x288 with 2 Axes>"
      ]
     },
     "metadata": {
      "needs_background": "light"
     },
     "output_type": "display_data"
    }
   ],
   "source": [
    "print(\"Log Loss (Training): {}\\n\".format(log_loss(y_train, clf.predict_proba(X_train))))\n",
    "print(\"Log Loss (Testing): {}\\n\".format(log_loss(y_test, y_pred_prob, labels=clf.classes_)))\n",
    "print(\"Accuracy Score: {}\\n\".format(accuracy_score(y_test, y_pred)))\n",
    "print('Classification Report:\\n')\n",
    "print(classification_report(y_test, y_pred))\n",
    "print('\\nConfustion Matrix: \\n')\n",
    "plot_confusion_matrix(y_test, y_pred)"
   ]
  },
  {
   "cell_type": "code",
   "execution_count": null,
   "metadata": {},
   "outputs": [],
   "source": []
  },
  {
   "cell_type": "code",
   "execution_count": 94,
   "metadata": {},
   "outputs": [],
   "source": [
    "# XGBClassifier\n",
    "xgb_clf = XGBClassifier(objective='binary:logistic', eval_metric='logloss', n_jobs=-1, random_state=42)\n",
    "xgb_clf.fit(X_train, y_train)\n",
    "y_pred_prob = xgb_clf.predict_proba(X_test)\n",
    "y_pred = xgb_clf.predict(X_test)"
   ]
  },
  {
   "cell_type": "code",
   "execution_count": 95,
   "metadata": {},
   "outputs": [
    {
     "name": "stdout",
     "output_type": "stream",
     "text": [
      "Log Loss (Training): 0.4207070597259291\n",
      "\n",
      "Log Loss (Testing): 0.42440915390133266\n",
      "\n",
      "Accuracy Score: 0.7725238036354644\n",
      "\n",
      "Classification Report:\n",
      "\n",
      "              precision    recall  f1-score   support\n",
      "\n",
      "           0       0.83      0.80      0.82     51240\n",
      "           1       0.68      0.73      0.70     29630\n",
      "\n",
      "    accuracy                           0.77     80870\n",
      "   macro avg       0.76      0.76      0.76     80870\n",
      "weighted avg       0.78      0.77      0.77     80870\n",
      "\n",
      "\n",
      "Confustion Matrix: \n",
      "\n"
     ]
    },
    {
     "data": {
      "image/png": "[encoded data removed]",
      "text/plain": [
       "<Figure size 1440x288 with 2 Axes>"
      ]
     },
     "metadata": {
      "needs_background": "light"
     },
     "output_type": "display_data"
    }
   ],
   "source": [
    "print(\"Log Loss (Training): {}\\n\".format(log_loss(y_train, xgb_clf.predict_proba(X_train))))\n",
    "print(\"Log Loss (Testing): {}\\n\".format(log_loss(y_test, y_pred_prob, labels=clf.classes_)))\n",
    "print(\"Accuracy Score: {}\\n\".format(accuracy_score(y_test, y_pred)))\n",
    "print('Classification Report:\\n')\n",
    "print(classification_report(y_test, y_pred))\n",
    "print('\\nConfustion Matrix: \\n')\n",
    "plot_confusion_matrix(y_test, y_pred)"
   ]
  },
  {
   "cell_type": "markdown",
   "metadata": {},
   "source": [
    "#### TF-IDF Word Level XGBoost"
   ]
  },
  {
   "cell_type": "code",
   "execution_count": 57,
   "metadata": {},
   "outputs": [
    {
     "data": {
      "text/plain": [
       "{'max_depth': [2, 4, 6, 8],\n",
       " 'min_child_weight': [1, 2, 3],\n",
       " 'eta': [0.01, 0.03, 0.1, 0.3]}"
      ]
     },
     "execution_count": 57,
     "metadata": {},
     "output_type": "execute_result"
    }
   ],
   "source": [
    "params = {}\n",
    "params['max_depth'] = [2, 4, 6, 8]\n",
    "params['min_child_weight'] = [1, 2, 3]\n",
    "params['eta'] = [0.01, 0.03, 0.1, 0.3]\n",
    "params"
   ]
  },
  {
   "cell_type": "code",
   "execution_count": 66,
   "metadata": {},
   "outputs": [],
   "source": [
    "xgb_clf = XGBClassifier(objective='binary:logistic', eval_metric='logloss', n_jobs=-1, random_state=42, verbose=1)"
   ]
  },
  {
   "cell_type": "code",
   "execution_count": 67,
   "metadata": {},
   "outputs": [],
   "source": [
    "grid_clf = GridSearchCV(xgb_clf, param_grid=params, n_jobs=-1, verbose=1, cv=3)"
   ]
  },
  {
   "cell_type": "code",
   "execution_count": 68,
   "metadata": {},
   "outputs": [
    {
     "name": "stdout",
     "output_type": "stream",
     "text": [
      "Fitting 3 folds for each of 48 candidates, totalling 144 fits\n"
     ]
    },
    {
     "name": "stderr",
     "output_type": "stream",
     "text": [
      "[Parallel(n_jobs=-1)]: Using backend LokyBackend with 4 concurrent workers.\n",
      "[Parallel(n_jobs=-1)]: Done   5 tasks      | elapsed:  3.3min\n",
      "[Parallel(n_jobs=-1)]: Done  10 tasks      | elapsed:  6.2min\n",
      "[Parallel(n_jobs=-1)]: Done  17 tasks      | elapsed: 10.5min\n",
      "[Parallel(n_jobs=-1)]: Done  24 tasks      | elapsed: 18.3min\n",
      "[Parallel(n_jobs=-1)]: Done  33 tasks      | elapsed: 34.1min\n",
      "[Parallel(n_jobs=-1)]: Done  42 tasks      | elapsed: 40.2min\n",
      "[Parallel(n_jobs=-1)]: Done  53 tasks      | elapsed: 51.4min\n",
      "[Parallel(n_jobs=-1)]: Done  64 tasks      | elapsed: 70.1min\n",
      "[Parallel(n_jobs=-1)]: Done  77 tasks      | elapsed: 88.3min\n",
      "[Parallel(n_jobs=-1)]: Done  90 tasks      | elapsed: 100.4min\n",
      "[Parallel(n_jobs=-1)]: Done 105 tasks      | elapsed: 123.5min\n",
      "[Parallel(n_jobs=-1)]: Done 120 tasks      | elapsed: 139.3min\n",
      "[Parallel(n_jobs=-1)]: Done 137 tasks      | elapsed: 159.1min\n",
      "[Parallel(n_jobs=-1)]: Done 144 out of 144 | elapsed: 169.3min finished\n"
     ]
    },
    {
     "name": "stdout",
     "output_type": "stream",
     "text": [
      "Total running time: 2:53:38.840761\n"
     ]
    }
   ],
   "source": [
    "start = datetime.utcnow()\n",
    "grid_clf.fit(X_train, y_train)\n",
    "print('Total running time: {}'.format(datetime.utcnow() - start))"
   ]
  },
  {
   "cell_type": "code",
   "execution_count": 69,
   "metadata": {},
   "outputs": [
    {
     "data": {
      "text/plain": [
       "XGBClassifier(base_score=0.5, booster=None, colsample_bylevel=1,\n",
       "              colsample_bynode=1, colsample_bytree=1, eta=0.3,\n",
       "              eval_metric='logloss', gamma=0, gpu_id=-1, importance_type='gain',\n",
       "              interaction_constraints=None, learning_rate=0.300000012,\n",
       "              max_delta_step=0, max_depth=8, min_child_weight=1, missing=nan,\n",
       "              monotone_constraints=None, n_estimators=100, n_jobs=-1,\n",
       "              num_parallel_tree=1, objective='binary:logistic', random_state=42,\n",
       "              reg_alpha=0, reg_lambda=1, scale_pos_weight=1, subsample=1,\n",
       "              tree_method=None, validate_parameters=False, verbose=10,\n",
       "              verbosity=None)"
      ]
     },
     "execution_count": 69,
     "metadata": {},
     "output_type": "execute_result"
    }
   ],
   "source": [
    "grid_clf.best_estimator_"
   ]
  },
  {
   "cell_type": "code",
   "execution_count": 70,
   "metadata": {},
   "outputs": [],
   "source": [
    "y_pred_prob = grid_clf.best_estimator_.predict_proba(X_test)\n",
    "y_pred = grid_clf.best_estimator_.predict(X_test)"
   ]
  },
  {
   "cell_type": "code",
   "execution_count": 75,
   "metadata": {},
   "outputs": [
    {
     "name": "stdout",
     "output_type": "stream",
     "text": [
      "Log Loss (Training): 0.3695228640596467\n",
      "\n",
      "Log Loss (Testing): 0.3893566904191875\n",
      "\n",
      "Accuracy Score: 0.8071596389266724\n",
      "\n",
      "Classification Report:\n",
      "\n",
      "              precision    recall  f1-score   support\n",
      "\n",
      "           0       0.84      0.85      0.85     51240\n",
      "           1       0.74      0.73      0.73     29630\n",
      "\n",
      "    accuracy                           0.81     80870\n",
      "   macro avg       0.79      0.79      0.79     80870\n",
      "weighted avg       0.81      0.81      0.81     80870\n",
      "\n",
      "\n",
      "Confustion Matrix: \n",
      "\n"
     ]
    },
    {
     "data": {
      "image/png": "[encoded data removed]",
      "text/plain": [
       "<Figure size 1440x288 with 2 Axes>"
      ]
     },
     "metadata": {
      "needs_background": "light"
     },
     "output_type": "display_data"
    }
   ],
   "source": [
    "print(\"Log Loss (Training): {}\\n\".format(log_loss(y_train, grid_clf.best_estimator_.predict_proba(X_train))))\n",
    "print(\"Log Loss (Testing): {}\\n\".format(log_loss(y_test, y_pred_prob, labels=grid_clf.best_estimator_.classes_)))\n",
    "print(\"Accuracy Score: {}\\n\".format(accuracy_score(y_test, y_pred)))\n",
    "print('Classification Report:\\n')\n",
    "print(classification_report(y_test, y_pred))\n",
    "print('\\nConfustion Matrix: \\n')\n",
    "plot_confusion_matrix(y_test, y_pred)"
   ]
  },
  {
   "cell_type": "code",
   "execution_count": null,
   "metadata": {},
   "outputs": [],
   "source": []
  }
 ],
 "metadata": {
  "kernelspec": {
   "display_name": "Python 3",
   "language": "python",
   "name": "python3"
  },
  "language_info": {
   "codemirror_mode": {
    "name": "ipython",
    "version": 3
   },
   "file_extension": ".py",
   "mimetype": "text/x-python",
   "name": "python",
   "nbconvert_exporter": "python",
   "pygments_lexer": "ipython3",
   "version": "3.7.6"
  }
 },
 "nbformat": 4,
 "nbformat_minor": 4
}
