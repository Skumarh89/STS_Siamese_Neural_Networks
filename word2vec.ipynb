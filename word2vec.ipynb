{
  "cells": [
    {
      "cell_type": "markdown",
      "metadata": {
        "colab_type": "text",
        "id": "EolosUGWOpC5"
      },
      "source": [
        "# Quora QQP"
      ]
    },
    {
      "cell_type": "markdown",
      "metadata": {
        "colab_type": "text",
        "id": "xX8GaLidOpC7"
      },
      "source": [
        "### Word2vec"
      ]
    },
    {
      "cell_type": "markdown",
      "metadata": {
        "colab_type": "text",
        "id": "VtzH6lKUOpC8"
      },
      "source": [
        "#### Performance Metrics\n",
        "\n",
        "\n",
        "- Log Loss \n",
        "- Binary Confusion Matrix"
      ]
    },
    {
      "cell_type": "markdown",
      "metadata": {
        "colab_type": "text",
        "id": "d5toiPVEOpC8"
      },
      "source": [
        "\n",
        "- SGDClassifier\n",
        "- XGBoost"
      ]
    },
    {
      "cell_type": "code",
      "execution_count": null,
      "metadata": {
        "colab": {
          "base_uri": "https://localhost:8080/",
          "height": 204
        },
        "colab_type": "code",
        "id": "z7ibUM_TOpC9",
        "outputId": "e7299f90-c3c4-416e-df8e-4c271f6278fb"
      },
      "outputs": [],
      "source": [
        "!wget -c \"https://s3.amazonaws.com/dl4j-distribution/GoogleNews-vectors-negative300.bin.gz\""
      ]
    },
    {
      "cell_type": "code",
      "execution_count": 42,
      "metadata": {
        "colab": {},
        "colab_type": "code",
        "id": "OhgYJgXDOpDB"
      },
      "outputs": [],
      "source": [
        "# importing the libraries\n",
        "\n",
        "import numpy as np\n",
        "import matplotlib.pyplot as plt\n",
        "import seaborn as sns\n",
        "import pandas as pd\n",
        "import pickle\n",
        "import nltk\n",
        "\n",
        "from datetime import datetime\n",
        "from nltk.corpus import stopwords\n",
        "from sklearn.model_selection import train_test_split\n",
        "from scipy.sparse import hstack\n",
        "from sklearn.linear_model import SGDClassifier\n",
        "from xgboost import XGBClassifier\n",
        "from sklearn.metrics import confusion_matrix, classification_report, accuracy_score, log_loss\n",
        "\n",
        "import gensim\n",
        "from gensim.models import Word2Vec"
      ]
    },
    {
      "cell_type": "code",
      "execution_count": 4,
      "metadata": {
        "colab": {},
        "colab_type": "code",
        "id": "hmUjqgX_OpDD"
      },
      "outputs": [],
      "source": [
        "# importing the preprocessed dataset\n",
        "\n",
        "df = pd.read_pickle(\"/content/drive/My Drive/questions_preprocessed.pkl\")"
      ]
    },
    {
      "cell_type": "code",
      "execution_count": 5,
      "metadata": {
        "colab": {
          "base_uri": "https://localhost:8080/",
          "height": 940
        },
        "colab_type": "code",
        "id": "9AOrIHAYOpDF",
        "outputId": "ad8f6cf4-432e-4386-a07b-cd992992cead"
      },
      "outputs": [
        {
          "data": {
            "text/html": [
              "<div>\n",
              "<style scoped>\n",
              "    .dataframe tbody tr th:only-of-type {\n",
              "        vertical-align: middle;\n",
              "    }\n",
              "\n",
              "    .dataframe tbody tr th {\n",
              "        vertical-align: top;\n",
              "    }\n",
              "\n",
              "    .dataframe thead th {\n",
              "        text-align: right;\n",
              "    }\n",
              "</style>\n",
              "<table border=\"1\" class=\"dataframe\">\n",
              "  <thead>\n",
              "    <tr style=\"text-align: right;\">\n",
              "      <th></th>\n",
              "      <th>question1</th>\n",
              "      <th>question2</th>\n",
              "      <th>is_duplicate</th>\n",
              "      <th>q1_len</th>\n",
              "      <th>q2_len</th>\n",
              "      <th>q1_word_len</th>\n",
              "      <th>q2_word_len</th>\n",
              "      <th>q1_char_len</th>\n",
              "      <th>q2_char_len</th>\n",
              "      <th>len_diff</th>\n",
              "      <th>word_len_diff</th>\n",
              "      <th>char_len_diff</th>\n",
              "      <th>common_words</th>\n",
              "      <th>common_words_ratio</th>\n",
              "      <th>fuzz_ratio</th>\n",
              "      <th>fuzz_partial_ratio</th>\n",
              "      <th>token_sort_ratio</th>\n",
              "      <th>token_set_ratio</th>\n",
              "    </tr>\n",
              "  </thead>\n",
              "  <tbody>\n",
              "    <tr>\n",
              "      <th>0</th>\n",
              "      <td>step step guide invest share market india</td>\n",
              "      <td>step step guide invest share market</td>\n",
              "      <td>0</td>\n",
              "      <td>66</td>\n",
              "      <td>57</td>\n",
              "      <td>14</td>\n",
              "      <td>12</td>\n",
              "      <td>53</td>\n",
              "      <td>46</td>\n",
              "      <td>9</td>\n",
              "      <td>2</td>\n",
              "      <td>7</td>\n",
              "      <td>10</td>\n",
              "      <td>0.384615</td>\n",
              "      <td>92</td>\n",
              "      <td>100</td>\n",
              "      <td>92</td>\n",
              "      <td>100</td>\n",
              "    </tr>\n",
              "    <tr>\n",
              "      <th>1</th>\n",
              "      <td>story kohinoor kohinoor diamond</td>\n",
              "      <td>would happen indian government stole kohinoor ...</td>\n",
              "      <td>0</td>\n",
              "      <td>51</td>\n",
              "      <td>88</td>\n",
              "      <td>8</td>\n",
              "      <td>13</td>\n",
              "      <td>44</td>\n",
              "      <td>76</td>\n",
              "      <td>37</td>\n",
              "      <td>5</td>\n",
              "      <td>32</td>\n",
              "      <td>4</td>\n",
              "      <td>0.190476</td>\n",
              "      <td>59</td>\n",
              "      <td>94</td>\n",
              "      <td>59</td>\n",
              "      <td>84</td>\n",
              "    </tr>\n",
              "    <tr>\n",
              "      <th>2</th>\n",
              "      <td>increase speed internet connection using vpn</td>\n",
              "      <td>internet speed increased hacking dns</td>\n",
              "      <td>0</td>\n",
              "      <td>73</td>\n",
              "      <td>59</td>\n",
              "      <td>14</td>\n",
              "      <td>10</td>\n",
              "      <td>60</td>\n",
              "      <td>50</td>\n",
              "      <td>14</td>\n",
              "      <td>4</td>\n",
              "      <td>10</td>\n",
              "      <td>4</td>\n",
              "      <td>0.166667</td>\n",
              "      <td>55</td>\n",
              "      <td>56</td>\n",
              "      <td>70</td>\n",
              "      <td>70</td>\n",
              "    </tr>\n",
              "    <tr>\n",
              "      <th>3</th>\n",
              "      <td>mentally lonely solve</td>\n",
              "      <td>find remainder math2324math divided 2423</td>\n",
              "      <td>0</td>\n",
              "      <td>50</td>\n",
              "      <td>65</td>\n",
              "      <td>11</td>\n",
              "      <td>9</td>\n",
              "      <td>40</td>\n",
              "      <td>57</td>\n",
              "      <td>15</td>\n",
              "      <td>2</td>\n",
              "      <td>17</td>\n",
              "      <td>0</td>\n",
              "      <td>0.000000</td>\n",
              "      <td>23</td>\n",
              "      <td>29</td>\n",
              "      <td>23</td>\n",
              "      <td>23</td>\n",
              "    </tr>\n",
              "    <tr>\n",
              "      <th>4</th>\n",
              "      <td>one dissolve water quikly sugar salt methane c...</td>\n",
              "      <td>fish would survive salt water</td>\n",
              "      <td>0</td>\n",
              "      <td>76</td>\n",
              "      <td>39</td>\n",
              "      <td>13</td>\n",
              "      <td>7</td>\n",
              "      <td>64</td>\n",
              "      <td>33</td>\n",
              "      <td>37</td>\n",
              "      <td>6</td>\n",
              "      <td>31</td>\n",
              "      <td>2</td>\n",
              "      <td>0.100000</td>\n",
              "      <td>43</td>\n",
              "      <td>52</td>\n",
              "      <td>40</td>\n",
              "      <td>51</td>\n",
              "    </tr>\n",
              "    <tr>\n",
              "      <th>5</th>\n",
              "      <td>astrology capricorn sun cap moon cap risingwha...</td>\n",
              "      <td>im triple capricorn sun moon ascendant caprico...</td>\n",
              "      <td>1</td>\n",
              "      <td>86</td>\n",
              "      <td>90</td>\n",
              "      <td>16</td>\n",
              "      <td>16</td>\n",
              "      <td>71</td>\n",
              "      <td>75</td>\n",
              "      <td>4</td>\n",
              "      <td>0</td>\n",
              "      <td>4</td>\n",
              "      <td>8</td>\n",
              "      <td>0.250000</td>\n",
              "      <td>64</td>\n",
              "      <td>65</td>\n",
              "      <td>60</td>\n",
              "      <td>69</td>\n",
              "    </tr>\n",
              "    <tr>\n",
              "      <th>6</th>\n",
              "      <td>buy tiago</td>\n",
              "      <td>keeps childern active far phone video games</td>\n",
              "      <td>0</td>\n",
              "      <td>19</td>\n",
              "      <td>62</td>\n",
              "      <td>4</td>\n",
              "      <td>11</td>\n",
              "      <td>16</td>\n",
              "      <td>52</td>\n",
              "      <td>43</td>\n",
              "      <td>7</td>\n",
              "      <td>36</td>\n",
              "      <td>0</td>\n",
              "      <td>0.000000</td>\n",
              "      <td>19</td>\n",
              "      <td>33</td>\n",
              "      <td>19</td>\n",
              "      <td>19</td>\n",
              "    </tr>\n",
              "    <tr>\n",
              "      <th>7</th>\n",
              "      <td>good geologist</td>\n",
              "      <td>great geologist</td>\n",
              "      <td>1</td>\n",
              "      <td>30</td>\n",
              "      <td>41</td>\n",
              "      <td>7</td>\n",
              "      <td>9</td>\n",
              "      <td>24</td>\n",
              "      <td>33</td>\n",
              "      <td>11</td>\n",
              "      <td>2</td>\n",
              "      <td>9</td>\n",
              "      <td>4</td>\n",
              "      <td>0.250000</td>\n",
              "      <td>76</td>\n",
              "      <td>71</td>\n",
              "      <td>76</td>\n",
              "      <td>78</td>\n",
              "    </tr>\n",
              "    <tr>\n",
              "      <th>8</th>\n",
              "      <td>use shi instead shi</td>\n",
              "      <td>use instead</td>\n",
              "      <td>0</td>\n",
              "      <td>31</td>\n",
              "      <td>37</td>\n",
              "      <td>8</td>\n",
              "      <td>8</td>\n",
              "      <td>24</td>\n",
              "      <td>30</td>\n",
              "      <td>6</td>\n",
              "      <td>0</td>\n",
              "      <td>6</td>\n",
              "      <td>6</td>\n",
              "      <td>0.375000</td>\n",
              "      <td>73</td>\n",
              "      <td>82</td>\n",
              "      <td>73</td>\n",
              "      <td>100</td>\n",
              "    </tr>\n",
              "    <tr>\n",
              "      <th>9</th>\n",
              "      <td>motorola company hack charter motorolla dcx3400</td>\n",
              "      <td>hack motorola dcx3400 free internet</td>\n",
              "      <td>0</td>\n",
              "      <td>60</td>\n",
              "      <td>49</td>\n",
              "      <td>9</td>\n",
              "      <td>9</td>\n",
              "      <td>52</td>\n",
              "      <td>41</td>\n",
              "      <td>11</td>\n",
              "      <td>0</td>\n",
              "      <td>11</td>\n",
              "      <td>3</td>\n",
              "      <td>0.166667</td>\n",
              "      <td>51</td>\n",
              "      <td>60</td>\n",
              "      <td>59</td>\n",
              "      <td>75</td>\n",
              "    </tr>\n",
              "  </tbody>\n",
              "</table>\n",
              "</div>"
            ],
            "text/plain": [
              "                                           question1  ... token_set_ratio\n",
              "0          step step guide invest share market india  ...             100\n",
              "1                    story kohinoor kohinoor diamond  ...              84\n",
              "2       increase speed internet connection using vpn  ...              70\n",
              "3                              mentally lonely solve  ...              23\n",
              "4  one dissolve water quikly sugar salt methane c...  ...              51\n",
              "5  astrology capricorn sun cap moon cap risingwha...  ...              69\n",
              "6                                          buy tiago  ...              19\n",
              "7                                     good geologist  ...              78\n",
              "8                                use shi instead shi  ...             100\n",
              "9    motorola company hack charter motorolla dcx3400  ...              75\n",
              "\n",
              "[10 rows x 18 columns]"
            ]
          },
          "execution_count": 5,
          "metadata": {
            "tags": []
          },
          "output_type": "execute_result"
        }
      ],
      "source": [
        "df.head(10)"
      ]
    },
    {
      "cell_type": "code",
      "execution_count": 6,
      "metadata": {
        "colab": {
          "base_uri": "https://localhost:8080/",
          "height": 51
        },
        "colab_type": "code",
        "id": "7V7uzn9bOpDJ",
        "outputId": "052cb9a2-ccd9-4a55-f3b1-641bb5ac9023"
      },
      "outputs": [
        {
          "name": "stdout",
          "output_type": "stream",
          "text": [
            "[nltk_data] Downloading package stopwords to /root/nltk_data...\n",
            "[nltk_data]   Unzipping corpora/stopwords.zip.\n"
          ]
        }
      ],
      "source": [
        "nltk.download('stopwords')\n",
        "stop_words = stopwords.words('english')"
      ]
    },
    {
      "cell_type": "code",
      "execution_count": 7,
      "metadata": {
        "colab": {
          "base_uri": "https://localhost:8080/",
          "height": 71
        },
        "colab_type": "code",
        "id": "ZVYrxsgdOpDM",
        "outputId": "50a21552-cd88-4f3e-b0d7-eeda889daa7a"
      },
      "outputs": [
        {
          "name": "stderr",
          "output_type": "stream",
          "text": [
            "/usr/local/lib/python3.6/dist-packages/smart_open/smart_open_lib.py:253: UserWarning: This function is deprecated, use smart_open.open instead. See the migration notes for details: https://github.com/RaRe-Technologies/smart_open/blob/master/README.rst#migrating-to-the-new-open-function\n",
            "  'See the migration notes for details: %s' % _MIGRATION_NOTES_URL\n"
          ]
        }
      ],
      "source": [
        "model = gensim.models.KeyedVectors.load_word2vec_format('GoogleNews-vectors-negative300.bin.gz', binary=True)"
      ]
    },
    {
      "cell_type": "markdown",
      "metadata": {
        "colab_type": "text",
        "id": "SuS_40iXOpDP"
      },
      "source": [
        "## Word2vec"
      ]
    },
    {
      "cell_type": "markdown",
      "metadata": {
        "colab_type": "text",
        "id": "nsyfmu77OpDP"
      },
      "source": [
        "#### Word Mover's Distance (WMD)\n",
        "\n"
      ]
    },
    {
      "cell_type": "code",
      "execution_count": 8,
      "metadata": {
        "colab": {
          "base_uri": "https://localhost:8080/",
          "height": 68
        },
        "colab_type": "code",
        "id": "p9naDUDkOpDQ",
        "outputId": "eb3a11d5-4df3-4416-f708-f047acfae586"
      },
      "outputs": [
        {
          "name": "stdout",
          "output_type": "stream",
          "text": [
            "Question1:  would trump presidency mean current international masters students f1 visa\n",
            "Question2:  trump presidency affect students presently us planning study us\n",
            "Is duplicate:  1\n"
          ]
        }
      ],
      "source": [
        "question1, question2, is_dup = df.iloc[15, [0, 1, 2]].values\n",
        "print('Question1: ', question1)\n",
        "print('Question2: ', question2)\n",
        "print('Is duplicate: ', is_dup)\n",
        "\n",
        "question1 = question1.lower().split()\n",
        "question2 = question2.lower().split()\n",
        "\n",
        "question1 = [w for w in question1 if w not in stop_words]\n",
        "question2 = [w for w in question2 if w not in stop_words]"
      ]
    },
    {
      "cell_type": "code",
      "execution_count": 9,
      "metadata": {
        "colab": {
          "base_uri": "https://localhost:8080/",
          "height": 34
        },
        "colab_type": "code",
        "id": "GfILYCw9OpDS",
        "outputId": "ecac9c70-c0cc-442f-d8ab-739381a2ef6e"
      },
      "outputs": [
        {
          "name": "stdout",
          "output_type": "stream",
          "text": [
            "wmd distance = 2.2550\n"
          ]
        }
      ],
      "source": [
        "distance = model.wmdistance(question1, question2)\n",
        "print('wmd distance = %.4f' % distance)"
      ]
    },
    {
      "cell_type": "markdown",
      "metadata": {
        "colab_type": "text",
        "id": "ypxfRb6aOpDU"
      },
      "source": [
        "This question pair is labeled as duplicate, but the distance between these two sentences is pretty large. This brings us to normalized WMD."
      ]
    },
    {
      "cell_type": "markdown",
      "metadata": {
        "colab_type": "text",
        "id": "tp5Vn5eiOpDV"
      },
      "source": [
        "## Normalizing word2vec"
      ]
    },
    {
      "cell_type": "code",
      "execution_count": 10,
      "metadata": {
        "colab": {
          "base_uri": "https://localhost:8080/",
          "height": 34
        },
        "colab_type": "code",
        "id": "mv9cDlOIOpDW",
        "outputId": "ddbb263f-12c4-4290-ffb9-bbc00f83465b"
      },
      "outputs": [
        {
          "name": "stdout",
          "output_type": "stream",
          "text": [
            "normalized wmd distance = 0.8665\n"
          ]
        }
      ],
      "source": [
        "model.init_sims(replace=True)\n",
        "distance = model.wmdistance(question1, question2)\n",
        "print('normalized wmd distance = %.4f' % distance)"
      ]
    },
    {
      "cell_type": "markdown",
      "metadata": {},
      "source": []
    },
    {
      "cell_type": "code",
      "execution_count": 11,
      "metadata": {
        "colab": {
          "base_uri": "https://localhost:8080/",
          "height": 68
        },
        "colab_type": "code",
        "id": "VF9Kvbo2OpDZ",
        "outputId": "2d07ea8e-c4fb-4e02-c3b3-2a22a9da4ff0"
      },
      "outputs": [
        {
          "name": "stdout",
          "output_type": "stream",
          "text": [
            "Question3:  mentally lonely solve\n",
            "Question4:  find remainder math2324math divided 2423\n",
            "Is duplicate:  0\n"
          ]
        }
      ],
      "source": [
        "question3, question4, is_dup = df.iloc[3, [0, 1, 2]].values\n",
        "print('Question3: ', question3)\n",
        "print('Question4: ', question4)\n",
        "print('Is duplicate: ', is_dup)\n",
        "\n",
        "question3 = question3.split()\n",
        "question4 = question4.split()\n",
        "\n",
        "question3 = [w for w in question3 if w not in stop_words]\n",
        "question4 = [w for w in question4 if w not in stop_words]"
      ]
    },
    {
      "cell_type": "code",
      "execution_count": 12,
      "metadata": {
        "colab": {
          "base_uri": "https://localhost:8080/",
          "height": 34
        },
        "colab_type": "code",
        "id": "4uOMTAlxOpDc",
        "outputId": "46dfc96c-f7d0-41cf-a3ba-5985eb1ad625"
      },
      "outputs": [
        {
          "name": "stdout",
          "output_type": "stream",
          "text": [
            "wmd distance = 1.2481\n"
          ]
        }
      ],
      "source": [
        "distance = model.wmdistance(question3, question4)\n",
        "print('wmd distance = %.4f' % distance)"
      ]
    },
    {
      "cell_type": "code",
      "execution_count": 13,
      "metadata": {
        "colab": {
          "base_uri": "https://localhost:8080/",
          "height": 34
        },
        "colab_type": "code",
        "id": "g29Oj-CNOpDe",
        "outputId": "69518d91-6716-4b58-9d06-a2118bdcfd96"
      },
      "outputs": [
        {
          "name": "stdout",
          "output_type": "stream",
          "text": [
            "normalized wmd distance = 1.2481\n"
          ]
        }
      ],
      "source": [
        "model.init_sims(replace=True)\n",
        "distance = model.wmdistance(question3, question4)\n",
        "print('normalized wmd distance = %.4f' % distance)"
      ]
    },
    {
      "cell_type": "markdown",
      "metadata": {
        "colab_type": "text",
        "id": "LJUvSH1vOpDg"
      },
      "source": [
        "## Cosine Similarity"
      ]
    },
    {
      "cell_type": "code",
      "execution_count": 14,
      "metadata": {
        "colab": {},
        "colab_type": "code",
        "id": "dBq_JpuDOpDh"
      },
      "outputs": [],
      "source": [
        "from gensim import corpora\n",
        "documents = [question1, question2, question3, question4]\n",
        "dictionary = corpora.Dictionary(documents)\n",
        "corpus = [dictionary.doc2bow(document) for document in documents]\n",
        "\n",
        "# Convert the sentences into bag-of-words vectors.\n",
        "question1 = dictionary.doc2bow(question1)\n",
        "question2 = dictionary.doc2bow(question2)\n",
        "question3 = dictionary.doc2bow(question3)\n",
        "question4 = dictionary.doc2bow(question4)"
      ]
    },
    {
      "cell_type": "code",
      "execution_count": 15,
      "metadata": {
        "colab": {
          "base_uri": "https://localhost:8080/",
          "height": 122
        },
        "colab_type": "code",
        "id": "28vl617NOpDl",
        "outputId": "f2e0dfb8-c3ca-4357-ff3d-bc4f371110a2"
      },
      "outputs": [
        {
          "name": "stdout",
          "output_type": "stream",
          "text": [
            "[==================================================] 100.0% 66.0/66.0MB downloaded\n"
          ]
        },
        {
          "name": "stderr",
          "output_type": "stream",
          "text": [
            "/usr/local/lib/python3.6/dist-packages/smart_open/smart_open_lib.py:253: UserWarning: This function is deprecated, use smart_open.open instead. See the migration notes for details: https://github.com/RaRe-Technologies/smart_open/blob/master/README.rst#migrating-to-the-new-open-function\n",
            "  'See the migration notes for details: %s' % _MIGRATION_NOTES_URL\n",
            "/usr/local/lib/python3.6/dist-packages/gensim/matutils.py:737: FutureWarning: Conversion of the second argument of issubdtype from `int` to `np.signedinteger` is deprecated. In future, it will be treated as `np.int64 == np.dtype(int).type`.\n",
            "  if np.issubdtype(vec.dtype, np.int):\n"
          ]
        }
      ],
      "source": [
        "import gensim.downloader as api\n",
        "\n",
        "w2v_model = api.load(\"glove-wiki-gigaword-50\")\n",
        "similarity_matrix = w2v_model.similarity_matrix(dictionary)"
      ]
    },
    {
      "cell_type": "code",
      "execution_count": 16,
      "metadata": {
        "colab": {
          "base_uri": "https://localhost:8080/",
          "height": 34
        },
        "colab_type": "code",
        "id": "uMPFMiqPOpDn",
        "outputId": "e640fe7f-5293-4e82-e61a-b6c3634d546d"
      },
      "outputs": [
        {
          "name": "stdout",
          "output_type": "stream",
          "text": [
            "similarity = 0.7891\n"
          ]
        }
      ],
      "source": [
        "from gensim.matutils import softcossim\n",
        "\n",
        "similarity = softcossim(question1, question2, similarity_matrix)\n",
        "print('similarity = %.4f' % similarity)"
      ]
    },
    {
      "cell_type": "markdown",
      "metadata": {
        "colab_type": "text",
        "id": "vRVEUYuvOpDq"
      },
      "source": [
        "The similarity for the 1st pair is relative large, this means soft cosine thinks these two sentence are very similar."
      ]
    },
    {
      "cell_type": "code",
      "execution_count": 17,
      "metadata": {
        "colab": {
          "base_uri": "https://localhost:8080/",
          "height": 34
        },
        "colab_type": "code",
        "id": "ZtTTEIwtOpDr",
        "outputId": "201967c5-ec9b-44fa-8e14-61cafbad7095"
      },
      "outputs": [
        {
          "name": "stdout",
          "output_type": "stream",
          "text": [
            "similarity = 0.2930\n"
          ]
        }
      ],
      "source": [
        "similarity = softcossim(question3, question4, similarity_matrix)\n",
        "print('similarity = %.4f' % similarity)"
      ]
    },
    {
      "cell_type": "markdown",
      "metadata": {
        "colab_type": "text",
        "id": "J425gtJ_OpDs"
      },
      "source": [
        "On the other hand, the similarity for the 2nd pair is very small, this means soft cosine thinks this pair are not similar."
      ]
    },
    {
      "cell_type": "markdown",
      "metadata": {
        "colab_type": "text",
        "id": "EbDGy3H0OpDt"
      },
      "source": [
        "### Word2vec "
      ]
    },
    {
      "cell_type": "code",
      "execution_count": 18,
      "metadata": {
        "colab": {
          "base_uri": "https://localhost:8080/",
          "height": 71
        },
        "colab_type": "code",
        "id": "0i-bSxcmOpDt",
        "outputId": "35af8b50-bd32-4f88-c175-18438959f492"
      },
      "outputs": [
        {
          "name": "stderr",
          "output_type": "stream",
          "text": [
            "/usr/local/lib/python3.6/dist-packages/smart_open/smart_open_lib.py:253: UserWarning: This function is deprecated, use smart_open.open instead. See the migration notes for details: https://github.com/RaRe-Technologies/smart_open/blob/master/README.rst#migrating-to-the-new-open-function\n",
            "  'See the migration notes for details: %s' % _MIGRATION_NOTES_URL\n"
          ]
        }
      ],
      "source": [
        "# load word2vec model\n",
        "model = gensim.models.KeyedVectors.load_word2vec_format('GoogleNews-vectors-negative300.bin.gz', binary=True)"
      ]
    },
    {
      "cell_type": "code",
      "execution_count": 19,
      "metadata": {
        "colab": {},
        "colab_type": "code",
        "id": "Gk_ZwegzOpDv"
      },
      "outputs": [],
      "source": [
        "df['wmd'] = df.apply(lambda x: model.wmdistance(x['question1'], x['question2']), axis=1)"
      ]
    },
    {
      "cell_type": "markdown",
      "metadata": {
        "colab_type": "text",
        "id": "hN0a5-LHOpDx"
      },
      "source": [
        "## Normalized Word2vec"
      ]
    },
    {
      "cell_type": "code",
      "execution_count": 20,
      "metadata": {
        "colab": {
          "base_uri": "https://localhost:8080/",
          "height": 71
        },
        "colab_type": "code",
        "id": "VZwDOiV3OpDx",
        "outputId": "ee200016-04c7-4796-8ecc-cb1295a2d13f"
      },
      "outputs": [
        {
          "name": "stderr",
          "output_type": "stream",
          "text": [
            "/usr/local/lib/python3.6/dist-packages/smart_open/smart_open_lib.py:253: UserWarning: This function is deprecated, use smart_open.open instead. See the migration notes for details: https://github.com/RaRe-Technologies/smart_open/blob/master/README.rst#migrating-to-the-new-open-function\n",
            "  'See the migration notes for details: %s' % _MIGRATION_NOTES_URL\n"
          ]
        }
      ],
      "source": [
        "# load normalized word2vec model\n",
        "norm_model = gensim.models.KeyedVectors.load_word2vec_format('GoogleNews-vectors-negative300.bin.gz', binary=True)\n",
        "norm_model.init_sims(replace=True)"
      ]
    },
    {
      "cell_type": "code",
      "execution_count": 21,
      "metadata": {
        "colab": {},
        "colab_type": "code",
        "id": "Qstl6GM7OpDz"
      },
      "outputs": [],
      "source": [
        "df['norm_wmd'] = df.apply(lambda x: norm_model.wmdistance(x['question1'], x['question2']), axis=1)"
      ]
    },
    {
      "cell_type": "code",
      "execution_count": 22,
      "metadata": {
        "colab": {
          "base_uri": "https://localhost:8080/",
          "height": 119
        },
        "colab_type": "code",
        "id": "0WSGBB75OpD0",
        "outputId": "04cc5a07-bfff-41ee-9ec6-f952b57facb6"
      },
      "outputs": [
        {
          "name": "stdout",
          "output_type": "stream",
          "text": [
            "Index(['question1', 'question2', 'is_duplicate', 'q1_len', 'q2_len',\n",
            "       'q1_word_len', 'q2_word_len', 'q1_char_len', 'q2_char_len', 'len_diff',\n",
            "       'word_len_diff', 'char_len_diff', 'common_words', 'common_words_ratio',\n",
            "       'fuzz_ratio', 'fuzz_partial_ratio', 'token_sort_ratio',\n",
            "       'token_set_ratio', 'wmd', 'norm_wmd'],\n",
            "      dtype='object')\n"
          ]
        }
      ],
      "source": [
        "# list all column names\n",
        "\n",
        "print(df.columns)"
      ]
    },
    {
      "cell_type": "code",
      "execution_count": 23,
      "metadata": {
        "colab": {
          "base_uri": "https://localhost:8080/",
          "height": 940
        },
        "colab_type": "code",
        "id": "8iRH5sq1OpD2",
        "outputId": "b1125540-8feb-41bc-85ef-a48c1d1a3cc4"
      },
      "outputs": [
        {
          "data": {
            "text/html": [
              "<div>\n",
              "<style scoped>\n",
              "    .dataframe tbody tr th:only-of-type {\n",
              "        vertical-align: middle;\n",
              "    }\n",
              "\n",
              "    .dataframe tbody tr th {\n",
              "        vertical-align: top;\n",
              "    }\n",
              "\n",
              "    .dataframe thead th {\n",
              "        text-align: right;\n",
              "    }\n",
              "</style>\n",
              "<table border=\"1\" class=\"dataframe\">\n",
              "  <thead>\n",
              "    <tr style=\"text-align: right;\">\n",
              "      <th></th>\n",
              "      <th>question1</th>\n",
              "      <th>question2</th>\n",
              "      <th>is_duplicate</th>\n",
              "      <th>q1_len</th>\n",
              "      <th>q2_len</th>\n",
              "      <th>q1_word_len</th>\n",
              "      <th>q2_word_len</th>\n",
              "      <th>q1_char_len</th>\n",
              "      <th>q2_char_len</th>\n",
              "      <th>len_diff</th>\n",
              "      <th>word_len_diff</th>\n",
              "      <th>char_len_diff</th>\n",
              "      <th>common_words</th>\n",
              "      <th>common_words_ratio</th>\n",
              "      <th>fuzz_ratio</th>\n",
              "      <th>fuzz_partial_ratio</th>\n",
              "      <th>token_sort_ratio</th>\n",
              "      <th>token_set_ratio</th>\n",
              "      <th>wmd</th>\n",
              "      <th>norm_wmd</th>\n",
              "    </tr>\n",
              "  </thead>\n",
              "  <tbody>\n",
              "    <tr>\n",
              "      <th>0</th>\n",
              "      <td>step step guide invest share market india</td>\n",
              "      <td>step step guide invest share market</td>\n",
              "      <td>0</td>\n",
              "      <td>66</td>\n",
              "      <td>57</td>\n",
              "      <td>14</td>\n",
              "      <td>12</td>\n",
              "      <td>53</td>\n",
              "      <td>46</td>\n",
              "      <td>9</td>\n",
              "      <td>2</td>\n",
              "      <td>7</td>\n",
              "      <td>10</td>\n",
              "      <td>0.384615</td>\n",
              "      <td>92</td>\n",
              "      <td>100</td>\n",
              "      <td>92</td>\n",
              "      <td>100</td>\n",
              "      <td>0.314466</td>\n",
              "      <td>0.113980</td>\n",
              "    </tr>\n",
              "    <tr>\n",
              "      <th>1</th>\n",
              "      <td>story kohinoor kohinoor diamond</td>\n",
              "      <td>would happen indian government stole kohinoor ...</td>\n",
              "      <td>0</td>\n",
              "      <td>51</td>\n",
              "      <td>88</td>\n",
              "      <td>8</td>\n",
              "      <td>13</td>\n",
              "      <td>44</td>\n",
              "      <td>76</td>\n",
              "      <td>37</td>\n",
              "      <td>5</td>\n",
              "      <td>32</td>\n",
              "      <td>4</td>\n",
              "      <td>0.190476</td>\n",
              "      <td>59</td>\n",
              "      <td>94</td>\n",
              "      <td>59</td>\n",
              "      <td>84</td>\n",
              "      <td>0.817189</td>\n",
              "      <td>0.295074</td>\n",
              "    </tr>\n",
              "    <tr>\n",
              "      <th>2</th>\n",
              "      <td>increase speed internet connection using vpn</td>\n",
              "      <td>internet speed increased hacking dns</td>\n",
              "      <td>0</td>\n",
              "      <td>73</td>\n",
              "      <td>59</td>\n",
              "      <td>14</td>\n",
              "      <td>10</td>\n",
              "      <td>60</td>\n",
              "      <td>50</td>\n",
              "      <td>14</td>\n",
              "      <td>4</td>\n",
              "      <td>10</td>\n",
              "      <td>4</td>\n",
              "      <td>0.166667</td>\n",
              "      <td>55</td>\n",
              "      <td>56</td>\n",
              "      <td>70</td>\n",
              "      <td>70</td>\n",
              "      <td>0.607675</td>\n",
              "      <td>0.205814</td>\n",
              "    </tr>\n",
              "    <tr>\n",
              "      <th>3</th>\n",
              "      <td>mentally lonely solve</td>\n",
              "      <td>find remainder math2324math divided 2423</td>\n",
              "      <td>0</td>\n",
              "      <td>50</td>\n",
              "      <td>65</td>\n",
              "      <td>11</td>\n",
              "      <td>9</td>\n",
              "      <td>40</td>\n",
              "      <td>57</td>\n",
              "      <td>15</td>\n",
              "      <td>2</td>\n",
              "      <td>17</td>\n",
              "      <td>0</td>\n",
              "      <td>0.000000</td>\n",
              "      <td>23</td>\n",
              "      <td>29</td>\n",
              "      <td>23</td>\n",
              "      <td>23</td>\n",
              "      <td>1.907965</td>\n",
              "      <td>0.763159</td>\n",
              "    </tr>\n",
              "    <tr>\n",
              "      <th>4</th>\n",
              "      <td>one dissolve water quikly sugar salt methane c...</td>\n",
              "      <td>fish would survive salt water</td>\n",
              "      <td>0</td>\n",
              "      <td>76</td>\n",
              "      <td>39</td>\n",
              "      <td>13</td>\n",
              "      <td>7</td>\n",
              "      <td>64</td>\n",
              "      <td>33</td>\n",
              "      <td>37</td>\n",
              "      <td>6</td>\n",
              "      <td>31</td>\n",
              "      <td>2</td>\n",
              "      <td>0.100000</td>\n",
              "      <td>43</td>\n",
              "      <td>52</td>\n",
              "      <td>40</td>\n",
              "      <td>51</td>\n",
              "      <td>1.019271</td>\n",
              "      <td>0.354407</td>\n",
              "    </tr>\n",
              "    <tr>\n",
              "      <th>5</th>\n",
              "      <td>astrology capricorn sun cap moon cap risingwha...</td>\n",
              "      <td>im triple capricorn sun moon ascendant caprico...</td>\n",
              "      <td>1</td>\n",
              "      <td>86</td>\n",
              "      <td>90</td>\n",
              "      <td>16</td>\n",
              "      <td>16</td>\n",
              "      <td>71</td>\n",
              "      <td>75</td>\n",
              "      <td>4</td>\n",
              "      <td>0</td>\n",
              "      <td>4</td>\n",
              "      <td>8</td>\n",
              "      <td>0.250000</td>\n",
              "      <td>64</td>\n",
              "      <td>65</td>\n",
              "      <td>60</td>\n",
              "      <td>69</td>\n",
              "      <td>0.567447</td>\n",
              "      <td>0.209981</td>\n",
              "    </tr>\n",
              "    <tr>\n",
              "      <th>6</th>\n",
              "      <td>buy tiago</td>\n",
              "      <td>keeps childern active far phone video games</td>\n",
              "      <td>0</td>\n",
              "      <td>19</td>\n",
              "      <td>62</td>\n",
              "      <td>4</td>\n",
              "      <td>11</td>\n",
              "      <td>16</td>\n",
              "      <td>52</td>\n",
              "      <td>43</td>\n",
              "      <td>7</td>\n",
              "      <td>36</td>\n",
              "      <td>0</td>\n",
              "      <td>0.000000</td>\n",
              "      <td>19</td>\n",
              "      <td>33</td>\n",
              "      <td>19</td>\n",
              "      <td>19</td>\n",
              "      <td>2.328187</td>\n",
              "      <td>0.813858</td>\n",
              "    </tr>\n",
              "    <tr>\n",
              "      <th>7</th>\n",
              "      <td>good geologist</td>\n",
              "      <td>great geologist</td>\n",
              "      <td>1</td>\n",
              "      <td>30</td>\n",
              "      <td>41</td>\n",
              "      <td>7</td>\n",
              "      <td>9</td>\n",
              "      <td>24</td>\n",
              "      <td>33</td>\n",
              "      <td>11</td>\n",
              "      <td>2</td>\n",
              "      <td>9</td>\n",
              "      <td>4</td>\n",
              "      <td>0.250000</td>\n",
              "      <td>76</td>\n",
              "      <td>71</td>\n",
              "      <td>76</td>\n",
              "      <td>78</td>\n",
              "      <td>0.649242</td>\n",
              "      <td>0.239367</td>\n",
              "    </tr>\n",
              "    <tr>\n",
              "      <th>8</th>\n",
              "      <td>use shi instead shi</td>\n",
              "      <td>use instead</td>\n",
              "      <td>0</td>\n",
              "      <td>31</td>\n",
              "      <td>37</td>\n",
              "      <td>8</td>\n",
              "      <td>8</td>\n",
              "      <td>24</td>\n",
              "      <td>30</td>\n",
              "      <td>6</td>\n",
              "      <td>0</td>\n",
              "      <td>6</td>\n",
              "      <td>6</td>\n",
              "      <td>0.375000</td>\n",
              "      <td>73</td>\n",
              "      <td>82</td>\n",
              "      <td>73</td>\n",
              "      <td>100</td>\n",
              "      <td>0.739701</td>\n",
              "      <td>0.274120</td>\n",
              "    </tr>\n",
              "    <tr>\n",
              "      <th>9</th>\n",
              "      <td>motorola company hack charter motorolla dcx3400</td>\n",
              "      <td>hack motorola dcx3400 free internet</td>\n",
              "      <td>0</td>\n",
              "      <td>60</td>\n",
              "      <td>49</td>\n",
              "      <td>9</td>\n",
              "      <td>9</td>\n",
              "      <td>52</td>\n",
              "      <td>41</td>\n",
              "      <td>11</td>\n",
              "      <td>0</td>\n",
              "      <td>11</td>\n",
              "      <td>3</td>\n",
              "      <td>0.166667</td>\n",
              "      <td>51</td>\n",
              "      <td>60</td>\n",
              "      <td>59</td>\n",
              "      <td>75</td>\n",
              "      <td>0.859735</td>\n",
              "      <td>0.311812</td>\n",
              "    </tr>\n",
              "  </tbody>\n",
              "</table>\n",
              "</div>"
            ],
            "text/plain": [
              "                                           question1  ...  norm_wmd\n",
              "0          step step guide invest share market india  ...  0.113980\n",
              "1                    story kohinoor kohinoor diamond  ...  0.295074\n",
              "2       increase speed internet connection using vpn  ...  0.205814\n",
              "3                              mentally lonely solve  ...  0.763159\n",
              "4  one dissolve water quikly sugar salt methane c...  ...  0.354407\n",
              "5  astrology capricorn sun cap moon cap risingwha...  ...  0.209981\n",
              "6                                          buy tiago  ...  0.813858\n",
              "7                                     good geologist  ...  0.239367\n",
              "8                                use shi instead shi  ...  0.274120\n",
              "9    motorola company hack charter motorolla dcx3400  ...  0.311812\n",
              "\n",
              "[10 rows x 20 columns]"
            ]
          },
          "execution_count": 23,
          "metadata": {
            "tags": []
          },
          "output_type": "execute_result"
        }
      ],
      "source": [
        "df.head(10)"
      ]
    },
    {
      "cell_type": "markdown",
      "metadata": {
        "colab_type": "text",
        "id": "7gctyP8ROpD4"
      },
      "source": [
        "The following features are available for building the model:\n",
        "\n",
        "- question1\n",
        "- question2\n",
        "- q1_len\n",
        "- q2_len\n",
        "- q1_word_len\n",
        "- q1_word_len\n",
        "- q1_char_len\n",
        "- q1_char_len\n",
        "- len_diff\n",
        "- word_len_diff\n",
        "- char_len_diff\n",
        "- common_words\n",
        "- common_words_ratio\n",
        "- fuzz_ratio\n",
        "- fuzz_partial_ratio\n",
        "- token_sort_ratio\n",
        "- token_set_ratio\n",
        "- wmd\n",
        "- norm_wmd"
      ]
    },
    {
      "cell_type": "code",
      "execution_count": 81,
      "metadata": {
        "colab": {},
        "colab_type": "code",
        "id": "WVgezgWmwe3q"
      },
      "outputs": [],
      "source": [
        "# save the wmd and normalized_wmd dataframe\n",
        "\n",
        "pickle.dump(df, open('questions_word2vec.pkl', 'wb'))"
      ]
    },
    {
      "cell_type": "code",
      "execution_count": 73,
      "metadata": {
        "colab": {},
        "colab_type": "code",
        "id": "pXQGq2GiOpD5"
      },
      "outputs": [],
      "source": [
        "# all features\n",
        "\n",
        "X = df[['q1_len', 'q2_len', 'q1_word_len', 'q2_word_len', 'q1_char_len', 'q2_char_len', 'len_diff', \n",
        "        'word_len_diff', 'char_len_diff', 'common_words', 'common_words_ratio', 'fuzz_ratio', \n",
        "        'fuzz_partial_ratio', 'token_sort_ratio', 'token_set_ratio', 'wmd', 'norm_wmd']]\n",
        "\n",
        "# output feature: is_duplicate\n",
        "y = df['is_duplicate']"
      ]
    },
    {
      "cell_type": "code",
      "execution_count": 75,
      "metadata": {
        "colab": {},
        "colab_type": "code",
        "id": "U7VZhegJtfYV"
      },
      "outputs": [],
      "source": [
        "X = X.replace([np.inf, -np.inf], np.nan).fillna(0)"
      ]
    },
    {
      "cell_type": "code",
      "execution_count": 78,
      "metadata": {
        "colab": {},
        "colab_type": "code",
        "id": "FUulY0ihOpD7"
      },
      "outputs": [],
      "source": [
        "# splitting the training and testing dataset\n",
        "\n",
        "X_train, X_test, y_train, y_test = train_test_split(X, y, test_size=0.2, random_state=42)"
      ]
    },
    {
      "cell_type": "code",
      "execution_count": 26,
      "metadata": {
        "colab": {},
        "colab_type": "code",
        "id": "aaS38vTfOpD9"
      },
      "outputs": [],
      "source": [
        "# plotting the confusion matrix\n",
        "\n",
        "def plot_confusion_matrix(test_y, predict_y):\n",
        "    C = confusion_matrix(test_y, predict_y)\n",
        "    plt.figure(figsize=(20,4))\n",
        "    \n",
        "    labels = [0,1]\n",
        "    cmap=sns.light_palette(\"blue\")\n",
        "    plt.subplot(1, 3, 1)\n",
        "    sns.heatmap(C, annot=True, cmap=cmap, fmt=\".0f\", xticklabels=labels, yticklabels=labels)\n",
        "    plt.xlabel('Predicted Class')\n",
        "    plt.ylabel('Original Class')\n",
        "    plt.title(\"Confusion matrix\")"
      ]
    },
    {
      "cell_type": "markdown",
      "metadata": {
        "colab_type": "text",
        "id": "9mVXEjAlOpD_"
      },
      "source": [
        "### SGDClassifier"
      ]
    },
    {
      "cell_type": "code",
      "execution_count": 82,
      "metadata": {
        "colab": {
          "base_uri": "https://localhost:8080/",
          "height": 153
        },
        "colab_type": "code",
        "id": "0yhIbDqSOpD_",
        "outputId": "b3a4aaf3-4264-48df-ed76-bcc4ea7c05bc"
      },
      "outputs": [
        {
          "name": "stdout",
          "output_type": "stream",
          "text": [
            "For alpha=1e-05, log loss is 1.7356797021065473\n",
            "For alpha=0.0001, log loss is 0.5810974801287455\n",
            "For alpha=0.001, log loss is 0.6898195956632347\n",
            "For alpha=0.01, log loss is 0.5732506506601485\n",
            "For alpha=0.1, log loss is 0.5444321922994311\n",
            "For alpha=1, log loss is 0.5601030871813478\n",
            "For alpha=10, log loss is 0.5815662160641676\n",
            "Total running time: 0:02:17.104368\n"
          ]
        }
      ],
      "source": [
        "start = datetime.utcnow()\n",
        "alpha = [10 ** x for x in range(-5, 2)]\n",
        "\n",
        "log_loss_array = []\n",
        "for i in alpha:\n",
        "    clf = SGDClassifier(alpha=i, penalty='l2', loss='log', n_jobs=-1, random_state=42)\n",
        "    clf.fit(X_train, y_train)\n",
        "    y_pred_prob = clf.predict_proba(X_test)\n",
        "    log_loss_array.append(log_loss(y_test, y_pred_prob, labels=clf.classes_))\n",
        "    print(\"For alpha={}, log loss is {}\".format(i, log_loss_array[-1]))\n",
        "\n",
        "print(\"Total running time: {}\".format(datetime.utcnow() - start))"
      ]
    },
    {
      "cell_type": "code",
      "execution_count": 83,
      "metadata": {
        "colab": {
          "base_uri": "https://localhost:8080/",
          "height": 295
        },
        "colab_type": "code",
        "id": "lkMTyL4VOpEB",
        "outputId": "f4a8baa4-8cb7-429b-d39d-e1edf371e7a1"
      },
      "outputs": [
        {
          "data": {
            "image/png": "[encoded data removed]",
            "text/plain": [
              "<Figure size 432x288 with 1 Axes>"
            ]
          },
          "metadata": {
            "needs_background": "light",
            "tags": []
          },
          "output_type": "display_data"
        }
      ],
      "source": [
        "data_plot = pd.DataFrame(\n",
        "    {\"alpha\": alpha[1:-1], \"log_loss\": log_loss_array[1:-1]})\n",
        "sns.lineplot(x=\"alpha\", y=\"log_loss\", data=data_plot)\n",
        "plt.title('Log Loss for each alpha')\n",
        "plt.show()"
      ]
    },
    {
      "cell_type": "code",
      "execution_count": 84,
      "metadata": {
        "colab": {},
        "colab_type": "code",
        "id": "mszBRHFrOpED"
      },
      "outputs": [],
      "source": [
        "clf = SGDClassifier(alpha=0.1, penalty='l2', loss='log', n_jobs=-1, random_state=42)\n",
        "clf.fit(X_train, y_train)\n",
        "y_pred_prob = clf.predict_proba(X_test)\n",
        "y_pred = clf.predict(X_test)"
      ]
    },
    {
      "cell_type": "code",
      "execution_count": 85,
      "metadata": {
        "colab": {
          "base_uri": "https://localhost:8080/",
          "height": 635
        },
        "colab_type": "code",
        "id": "K8FI4WanOpEF",
        "outputId": "cb24255f-c4ee-4570-cb42-65c2fb5825cb"
      },
      "outputs": [
        {
          "name": "stdout",
          "output_type": "stream",
          "text": [
            "Log Loss (Training): 0.5484072770335439\n",
            "\n",
            "Log Loss (Testing): 0.5444321922994311\n",
            "\n",
            "Accuracy Score: 0.6722764931371337\n",
            "\n",
            "Classification Report:\n",
            "\n",
            "              precision    recall  f1-score   support\n",
            "\n",
            "           0       0.72      0.79      0.75     51240\n",
            "           1       0.56      0.46      0.51     29630\n",
            "\n",
            "    accuracy                           0.67     80870\n",
            "   macro avg       0.64      0.63      0.63     80870\n",
            "weighted avg       0.66      0.67      0.66     80870\n",
            "\n",
            "\n",
            "Confustion Matrix: \n",
            "\n"
          ]
        },
        {
          "data": {
            "image/png": "[encoded data removed]",
            "text/plain": [
              "<Figure size 1440x288 with 2 Axes>"
            ]
          },
          "metadata": {
            "needs_background": "light",
            "tags": []
          },
          "output_type": "display_data"
        }
      ],
      "source": [
        "print(\"Log Loss (Training): {}\\n\".format(log_loss(y_train, clf.predict_proba(X_train))))\n",
        "print(\"Log Loss (Testing): {}\\n\".format(log_loss(y_test, y_pred_prob, labels=clf.classes_)))\n",
        "print(\"Accuracy Score: {}\\n\".format(accuracy_score(y_test, y_pred)))\n",
        "print('Classification Report:\\n')\n",
        "print(classification_report(y_test, y_pred))\n",
        "print('\\nConfustion Matrix: \\n')\n",
        "plot_confusion_matrix(y_test, y_pred)"
      ]
    },
    {
      "cell_type": "markdown",
      "metadata": {
        "colab_type": "text",
        "id": "Y_TkCEnYOpEI"
      },
      "source": [
        "### XGBClassifier \n",
        "\n"
      ]
    },
    {
      "cell_type": "code",
      "execution_count": 86,
      "metadata": {
        "colab": {},
        "colab_type": "code",
        "id": "6RsDWU29OpEI"
      },
      "outputs": [],
      "source": [
        "xgb_clf = XGBClassifier(objective='binary:logistic', eval_metric='logloss', n_jobs=-1, random_state=42)\n",
        "xgb_clf.fit(X_train, y_train)\n",
        "y_pred_prob = xgb_clf.predict_proba(X_test)\n",
        "y_pred = xgb_clf.predict(X_test)"
      ]
    },
    {
      "cell_type": "code",
      "execution_count": 87,
      "metadata": {
        "colab": {
          "base_uri": "https://localhost:8080/",
          "height": 635
        },
        "colab_type": "code",
        "id": "-Gv83GmDOpEK",
        "outputId": "a4d1250c-7667-46f8-d6b1-fc4b79f24129"
      },
      "outputs": [
        {
          "name": "stdout",
          "output_type": "stream",
          "text": [
            "Log Loss (Training): 0.47433492069734146\n",
            "\n",
            "Log Loss (Testing): 0.47069451128004214\n",
            "\n",
            "Accuracy Score: 0.7338939037962161\n",
            "\n",
            "Classification Report:\n",
            "\n",
            "              precision    recall  f1-score   support\n",
            "\n",
            "           0       0.83      0.73      0.78     51240\n",
            "           1       0.61      0.74      0.67     29630\n",
            "\n",
            "    accuracy                           0.73     80870\n",
            "   macro avg       0.72      0.74      0.72     80870\n",
            "weighted avg       0.75      0.73      0.74     80870\n",
            "\n",
            "\n",
            "Confustion Matrix: \n",
            "\n"
          ]
        },
        {
          "data": {
            "image/png": "[encoded data removed]",
            "text/plain": [
              "<Figure size 1440x288 with 2 Axes>"
            ]
          },
          "metadata": {
            "needs_background": "light",
            "tags": []
          },
          "output_type": "display_data"
        }
      ],
      "source": [
        "print(\"Log Loss (Training): {}\\n\".format(log_loss(y_train, xgb_clf.predict_proba(X_train))))\n",
        "print(\"Log Loss (Testing): {}\\n\".format(log_loss(y_test, y_pred_prob, labels=clf.classes_)))\n",
        "print(\"Accuracy Score: {}\\n\".format(accuracy_score(y_test, y_pred)))\n",
        "print('Classification Report:\\n')\n",
        "print(classification_report(y_test, y_pred))\n",
        "print('\\nConfustion Matrix: \\n')\n",
        "plot_confusion_matrix(y_test, y_pred)"
      ]
    }
  ],
  "metadata": {
    "accelerator": "GPU",
    "colab": {
      "collapsed_sections": [],
      "name": "word2vec.ipynb",
      "provenance": []
    },
    "kernelspec": {
      "display_name": "Python 3",
      "language": "python",
      "name": "python3"
    },
    "language_info": {
      "codemirror_mode": {
        "name": "ipython",
        "version": 3
      },
      "file_extension": ".py",
      "mimetype": "text/x-python",
      "name": "python",
      "nbconvert_exporter": "python",
      "pygments_lexer": "ipython3",
      "version": "3.7.6"
    }
  },
  "nbformat": 4,
  "nbformat_minor": 0
}
